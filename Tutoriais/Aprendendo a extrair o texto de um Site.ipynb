{
 "cells": [
  {
   "cell_type": "markdown",
   "metadata": {},
   "source": [
    "![](https://i.creativecommons.org/l/by/4.0/88x31.png)\n",
    "# Aprendendo a extrair texto de um site com Scrapy.\n",
    "Nosso código vai acessar o site [toscrape](http://quotes.toscrape.com/random), esse código ira retirar as frases, o nome do Autor e a categoria que o texto se enquadra. Para isso, devemos iniciar o Shell do Scrapy."
   ]
  },
  {
   "cell_type": "code",
   "execution_count": null,
   "metadata": {
    "scrolled": true
   },
   "outputs": [],
   "source": [
    "scrapy shell http://quotes.toscrape.com/random"
   ]
  },
  {
   "cell_type": "markdown",
   "metadata": {},
   "source": [
    "Agora devemos analisar o código base do site, ao apertar `F12`, o painel de desenvolvedor é aberto. Colocando o mouse sobre a frase, clique com o botão direito do mouse ou `Ctrl + Shift + I` para inspecionar a frase. Uma linha do código fonte da página sera destacado, algo como: "
   ]
  },
  {
   "cell_type": "markdown",
   "metadata": {},
   "source": [
    "```<span class=\"text\" itemprop=\"text\">[FRASE]</span>```"
   ]
  },
  {
   "cell_type": "markdown",
   "metadata": {},
   "source": [
    "Sabendo onde se encontra o texto, devemos extraí-lo, para isso usamos o método `response.css()`, para localizar o texto no arquivo `.css`, depois esclarecemos a tag e o nome da classe, o que resultaria `span.text`. No final o codigo ficaria:"
   ]
  },
  {
   "cell_type": "code",
   "execution_count": null,
   "metadata": {},
   "outputs": [],
   "source": [
    "response.css('span.text')"
   ]
  },
  {
   "cell_type": "markdown",
   "metadata": {},
   "source": [
    "Mas você vê que o texto não sai limpo, sai algo como `[<Selector xpath=\"descendant-or-self::span[@class and contains(concat(' ', normalize-space(@class), ' '), ' text ')]/text()\" data=\" [TEXTO] \">]`. Precisamos tratar isso, então usaremos o método `.extract()`, o código agora ficara algo como:"
   ]
  },
  {
   "cell_type": "code",
   "execution_count": null,
   "metadata": {},
   "outputs": [],
   "source": [
    "response.css('span.text').extract()"
   ]
  },
  {
   "cell_type": "markdown",
   "metadata": {},
   "source": [
    "Retornou um array com o texto dentro, mas o array só possui uma String, então vamos acessar esse array."
   ]
  },
  {
   "cell_type": "code",
   "execution_count": null,
   "metadata": {},
   "outputs": [],
   "source": [
    "response.css('span.text').extract_first()"
   ]
  },
  {
   "cell_type": "markdown",
   "metadata": {},
   "source": [
    "## Agora vamos extrair o autor da frase."
   ]
  },
  {
   "cell_type": "markdown",
   "metadata": {},
   "source": [
    "Vamos extrair o autor da frase, para isso devemos seguir o mesmo passo-a-passo.\n",
    "1. Inspecionar o elemento e descobrir sua localização no código fonte da página.\n",
    "2. Esclarecemos a tag e classe para extrairmos o texto."
   ]
  },
  {
   "cell_type": "code",
   "execution_count": null,
   "metadata": {},
   "outputs": [],
   "source": [
    "response.css('small.author')"
   ]
  },
  {
   "cell_type": "markdown",
   "metadata": {},
   "source": [
    "3. Agora devemos acessar o Array e extrair a String."
   ]
  },
  {
   "cell_type": "code",
   "execution_count": null,
   "metadata": {},
   "outputs": [],
   "source": [
    "response.css('small.author::text').extract()"
   ]
  },
  {
   "cell_type": "markdown",
   "metadata": {},
   "source": [
    "## Para terminar, vamos extrair as categorias do texto."
   ]
  },
  {
   "cell_type": "markdown",
   "metadata": {},
   "source": [
    "Vamos extrair as categorias da frase, mesmo passo-a-passo.\n",
    "1. Inspecionar o elemento e descobrir sua localização no código fonte da página.\n",
    "2. Esclarecer a tag e classe para extrairmos o texto."
   ]
  },
  {
   "cell_type": "code",
   "execution_count": null,
   "metadata": {},
   "outputs": [],
   "source": [
    "response.css('a.tag::text').extract()"
   ]
  },
  {
   "cell_type": "markdown",
   "metadata": {},
   "source": [
    "Mas dessa vez queremos todo o Array, visto que uma frase pode ter mais de uma categoria ligada a ela."
   ]
  }
 ],
 "metadata": {
  "kernelspec": {
   "display_name": "Python 3",
   "language": "python",
   "name": "python3"
  },
  "language_info": {
   "codemirror_mode": {
    "name": "ipython",
    "version": 3
   },
   "file_extension": ".py",
   "mimetype": "text/x-python",
   "name": "python",
   "nbconvert_exporter": "python",
   "pygments_lexer": "ipython3",
   "version": "3.7.0"
  }
 },
 "nbformat": 4,
 "nbformat_minor": 2
}
